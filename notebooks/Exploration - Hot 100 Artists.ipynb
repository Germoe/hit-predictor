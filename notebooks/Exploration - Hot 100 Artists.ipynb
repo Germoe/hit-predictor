{
 "cells": [
  {
   "cell_type": "markdown",
   "metadata": {},
   "source": [
    "Next we need to identify unique artists in our set and match them with Musicbrainz ids. We'll then use them to sample users from LastFM's comments section to identify early adopters and their listening habits."
   ]
  },
  {
   "cell_type": "code",
   "execution_count": 1,
   "metadata": {},
   "outputs": [],
   "source": [
    "import os\n",
    "import numpy as np\n",
    "import pandas as pd\n",
    "from glob import glob\n",
    "import re\n",
    "import time\n",
    "# Import API importers\n",
    "import musicbrainzngs\n",
    "# NGram\n",
    "from similarity.ngram import NGram\n",
    "\n",
    "twogram = NGram(2)\n",
    "\n",
    "# Set musicbrainz crednetials\n",
    "musicbrainzngs.set_rate_limit(limit_or_interval=1.0, new_requests=1)\n",
    "musicbrainzngs.set_useragent('concerts', '0.0.1', 'me@sebastian-engels.com')\n",
    "musicbrainzngs.set_format(fmt='xml')"
   ]
  },
  {
   "cell_type": "code",
   "execution_count": 2,
   "metadata": {},
   "outputs": [],
   "source": [
    "# Switch Directory to ../data/interim/\n",
    "current_dir = os.getcwd()\n",
    "destination_dir = '/data/interim'\n",
    "if current_dir[-len(destination_dir):] != destination_dir:\n",
    "    os.chdir('..' + destination_dir)\n",
    "else:\n",
    "    print('already in correct directory: ',current_dir)"
   ]
  },
  {
   "cell_type": "code",
   "execution_count": 3,
   "metadata": {},
   "outputs": [
    {
     "name": "stdout",
     "output_type": "stream",
     "text": [
      "9482\n"
     ]
    },
    {
     "data": {
      "text/html": [
       "<div>\n",
       "<style scoped>\n",
       "    .dataframe tbody tr th:only-of-type {\n",
       "        vertical-align: middle;\n",
       "    }\n",
       "\n",
       "    .dataframe tbody tr th {\n",
       "        vertical-align: top;\n",
       "    }\n",
       "\n",
       "    .dataframe thead th {\n",
       "        text-align: right;\n",
       "    }\n",
       "</style>\n",
       "<table border=\"1\" class=\"dataframe\">\n",
       "  <thead>\n",
       "    <tr style=\"text-align: right;\">\n",
       "      <th></th>\n",
       "      <th>artist</th>\n",
       "      <th>title</th>\n",
       "    </tr>\n",
       "  </thead>\n",
       "  <tbody>\n",
       "    <tr>\n",
       "      <th>0</th>\n",
       "      <td>The Association</td>\n",
       "      <td>Windy</td>\n",
       "    </tr>\n",
       "    <tr>\n",
       "      <th>1</th>\n",
       "      <td>The Music Explosion</td>\n",
       "      <td>Little Bit O' Soul</td>\n",
       "    </tr>\n",
       "    <tr>\n",
       "      <th>2</th>\n",
       "      <td>Frankie Valli</td>\n",
       "      <td>Can't Take My Eyes Off You</td>\n",
       "    </tr>\n",
       "    <tr>\n",
       "      <th>3</th>\n",
       "      <td>Scott McKenzie</td>\n",
       "      <td>San Francisco (Be Sure To Wear Flowers In Your...</td>\n",
       "    </tr>\n",
       "    <tr>\n",
       "      <th>4</th>\n",
       "      <td>Petula Clark</td>\n",
       "      <td>Don't Sleep In The Subway</td>\n",
       "    </tr>\n",
       "  </tbody>\n",
       "</table>\n",
       "</div>"
      ],
      "text/plain": [
       "                artist                                              title\n",
       "0      The Association                                              Windy\n",
       "1  The Music Explosion                                 Little Bit O' Soul\n",
       "2        Frankie Valli                         Can't Take My Eyes Off You\n",
       "3       Scott McKenzie  San Francisco (Be Sure To Wear Flowers In Your...\n",
       "4         Petula Clark                          Don't Sleep In The Subway"
      ]
     },
     "execution_count": 3,
     "metadata": {},
     "output_type": "execute_result"
    }
   ],
   "source": [
    "# Generate a DataFrame with unique artists that have a musicbrainzid\n",
    "hot100_processed = pd.read_csv('../processed/hot100_processed.csv',sep='\\t')\n",
    "hot100_artists_df = hot100_processed.drop_duplicates(subset=['artist'],keep='first').loc[:,['artist','title']]\n",
    "print(len(hot100_artists_df))\n",
    "hot100_artists_df.head()"
   ]
  },
  {
   "cell_type": "code",
   "execution_count": 4,
   "metadata": {},
   "outputs": [
    {
     "data": {
      "text/html": [
       "<div>\n",
       "<style scoped>\n",
       "    .dataframe tbody tr th:only-of-type {\n",
       "        vertical-align: middle;\n",
       "    }\n",
       "\n",
       "    .dataframe tbody tr th {\n",
       "        vertical-align: top;\n",
       "    }\n",
       "\n",
       "    .dataframe thead th {\n",
       "        text-align: right;\n",
       "    }\n",
       "</style>\n",
       "<table border=\"1\" class=\"dataframe\">\n",
       "  <thead>\n",
       "    <tr style=\"text-align: right;\">\n",
       "      <th></th>\n",
       "      <th>mbid</th>\n",
       "      <th>checked</th>\n",
       "    </tr>\n",
       "    <tr>\n",
       "      <th>artist</th>\n",
       "      <th></th>\n",
       "      <th></th>\n",
       "    </tr>\n",
       "  </thead>\n",
       "  <tbody>\n",
       "    <tr>\n",
       "      <th>The Association</th>\n",
       "      <td>e1fae923-bf20-4d7b-89fb-38ecc0a8236b</td>\n",
       "      <td>True</td>\n",
       "    </tr>\n",
       "    <tr>\n",
       "      <th>The Music Explosion</th>\n",
       "      <td>033c88a1-d6d3-4654-8a40-e67fc469608e</td>\n",
       "      <td>True</td>\n",
       "    </tr>\n",
       "    <tr>\n",
       "      <th>Frankie Valli</th>\n",
       "      <td>NaN</td>\n",
       "      <td>True</td>\n",
       "    </tr>\n",
       "    <tr>\n",
       "      <th>Scott McKenzie</th>\n",
       "      <td>120d7ba0-73e1-4e96-98e3-e75f60f232e8</td>\n",
       "      <td>True</td>\n",
       "    </tr>\n",
       "    <tr>\n",
       "      <th>Petula Clark</th>\n",
       "      <td>40e69149-45a7-4dab-8128-c5a4d9654eeb</td>\n",
       "      <td>True</td>\n",
       "    </tr>\n",
       "  </tbody>\n",
       "</table>\n",
       "</div>"
      ],
      "text/plain": [
       "                                                     mbid  checked\n",
       "artist                                                            \n",
       "The Association      e1fae923-bf20-4d7b-89fb-38ecc0a8236b     True\n",
       "The Music Explosion  033c88a1-d6d3-4654-8a40-e67fc469608e     True\n",
       "Frankie Valli                                         NaN     True\n",
       "Scott McKenzie       120d7ba0-73e1-4e96-98e3-e75f60f232e8     True\n",
       "Petula Clark         40e69149-45a7-4dab-8128-c5a4d9654eeb     True"
      ]
     },
     "execution_count": 4,
     "metadata": {},
     "output_type": "execute_result"
    }
   ],
   "source": [
    "try:\n",
    "    mbid_list = pd.read_csv('../interim/hot100_artists.csv',sep='\\t',encoding='utf-8',index_col='artist')\n",
    "except:\n",
    "    mbid_list = pd.DataFrame(index=hot100_artists_df.artist,columns=['mbid','checked'])\n",
    "    mbid_list.loc[:,'checked'] = False\n",
    "\n",
    "mbid_list.head()"
   ]
  },
  {
   "cell_type": "code",
   "execution_count": 5,
   "metadata": {},
   "outputs": [],
   "source": [
    "def save_progress(df,output_path):\n",
    "    df_res_index = df.reset_index()\n",
    "    df_res_index.to_csv(output_dir + target, sep='\\t',index=False,encoding='utf-8')\n",
    "    \n",
    "\n",
    "def twogram_distance(row):\n",
    "    # only compare string values\n",
    "    return twogram.distance(row[0],row[1])"
   ]
  },
  {
   "cell_type": "code",
   "execution_count": 7,
   "metadata": {},
   "outputs": [
    {
     "name": "stdout",
     "output_type": "stream",
     "text": [
      "Total Artists to be matched:  9482\n"
     ]
    }
   ],
   "source": [
    "def search_artist_mb(row):\n",
    "    artist_name = row[0]\n",
    "    track_title = row[1]\n",
    "    res_tracks = musicbrainzngs.search_recordings(query=track_title,limit=20)\n",
    "    best_match = False\n",
    "    best_dist = 0.5\n",
    "    max_dist = 0.5\n",
    "    for track in res_tracks['recording-list']:\n",
    "        mb_title = track['title']\n",
    "        track_dist = twogram_distance((track_title,mb_title))\n",
    "        for artist_credit in track['artist-credit']:\n",
    "            try:\n",
    "                mbid_artist = artist_credit['artist']['id']\n",
    "                mb_artist = artist_credit['artist']['name']\n",
    "                artist_dist = twogram_distance((artist_name,mb_artist))\n",
    "            except:\n",
    "                # This is not a valid artist dict instead it's a concatenation (e.g. &, feat. etc.)\n",
    "                artist_dist = 1\n",
    "        cumul_dist = artist_dist + track_dist\n",
    "        if cumul_dist == 0.0:\n",
    "            return mbid_artist\n",
    "        elif cumul_dist < best_dist and cumul_dist < max_dist:\n",
    "            best_match = mbid_artist\n",
    "            best_dist = cumul_dist\n",
    "    if best_match:\n",
    "        return best_match\n",
    "    return np.nan\n",
    "\n",
    "# Save Progress Settings \n",
    "output_dir = '../interim/'\n",
    "target = 'hot100_artists.csv'\n",
    "\n",
    "# Total Artists\n",
    "total_artists = len(hot100_artists_df)\n",
    "print(\"Total Artists to be matched: \",total_artists)\n",
    "for i, row in enumerate(hot100_artists_df.iterrows()):\n",
    "    row_values = row[1]\n",
    "    checked = mbid_list.loc[row_values['artist'],'checked']\n",
    "    if checked:\n",
    "        continue\n",
    "    mbid_list.loc[row[1]['artist'],'mbid'] = search_artist_mb(row_values)\n",
    "    mbid_list.loc[row[1]['artist'],'checked'] = True\n",
    "    if (i % 10) == 0:\n",
    "        save_progress(mbid_list,output_dir+target)\n",
    "        print(\"Progress: {}%\".format(round(i/total_artists*100,2)))\n",
    "    elif i >= (len(hot100_artists_df) - 1):\n",
    "        save_progress(mbid_list,output_dir+target)\n",
    "        print(\"Success: {} of {}\".format(i+1,total_artists))\n",
    "    time.sleep(.2)"
   ]
  },
  {
   "cell_type": "code",
   "execution_count": null,
   "metadata": {},
   "outputs": [],
   "source": []
  }
 ],
 "metadata": {
  "kernelspec": {
   "display_name": "Python 3",
   "language": "python",
   "name": "python3"
  },
  "language_info": {
   "codemirror_mode": {
    "name": "ipython",
    "version": 3
   },
   "file_extension": ".py",
   "mimetype": "text/x-python",
   "name": "python",
   "nbconvert_exporter": "python",
   "pygments_lexer": "ipython3",
   "version": "3.7.3"
  }
 },
 "nbformat": 4,
 "nbformat_minor": 2
}
