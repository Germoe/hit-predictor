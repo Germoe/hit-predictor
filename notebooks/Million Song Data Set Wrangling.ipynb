{
 "cells": [
  {
   "cell_type": "markdown",
   "metadata": {},
   "source": [
    "IMPORTANT: Make sure to run this notebook first (Create Mapping File from Echonest Mapping Project) in order to create 'mapping.csv' (if not already available)\n",
    "\n",
    "Import the Dataset and have an initial exploration, see shifts and possible issues."
   ]
  },
  {
   "cell_type": "code",
   "execution_count": 1,
   "metadata": {},
   "outputs": [],
   "source": [
    "import h5py\n",
    "import pandas as pd\n",
    "from glob import glob, iglob\n",
    "import json"
   ]
  },
  {
   "cell_type": "code",
   "execution_count": 2,
   "metadata": {},
   "outputs": [
    {
     "name": "stdout",
     "output_type": "stream",
     "text": [
      "/Users/sebastian/git_repos/data_science/hit_predictor/data/raw\n",
      "\u001b[34mMillionSongFullSummary\u001b[m\u001b[m/ \u001b[34mMillionSongSubset\u001b[m\u001b[m/      \u001b[34mfaq\u001b[m\u001b[m/\r\n"
     ]
    }
   ],
   "source": [
    "%cd ../data/raw/\n",
    "%ls"
   ]
  },
  {
   "cell_type": "markdown",
   "metadata": {},
   "source": [
    "First we'll look at the summary file"
   ]
  },
  {
   "cell_type": "code",
   "execution_count": 3,
   "metadata": {},
   "outputs": [
    {
     "name": "stdout",
     "output_type": "stream",
     "text": [
      "analysis\n",
      "metadata\n",
      "musicbrainz\n"
     ]
    }
   ],
   "source": [
    "data = h5py.File('MillionSongFullSummary/msd_summary_file.h5','r')\n",
    "for key in data.keys():\n",
    "    print(key)"
   ]
  },
  {
   "cell_type": "code",
   "execution_count": 4,
   "metadata": {},
   "outputs": [
    {
     "name": "stdout",
     "output_type": "stream",
     "text": [
      "songs\n"
     ]
    },
    {
     "name": "stderr",
     "output_type": "stream",
     "text": [
      "/Users/sebastian/anaconda3/envs/hit_predictor/lib/python3.7/site-packages/h5py/_hl/dataset.py:313: H5pyDeprecationWarning: dataset.value has been deprecated. Use dataset[()] instead.\n",
      "  \"Use dataset[()] instead.\", H5pyDeprecationWarning)\n"
     ]
    },
    {
     "data": {
      "text/html": [
       "<div>\n",
       "<style scoped>\n",
       "    .dataframe tbody tr th:only-of-type {\n",
       "        vertical-align: middle;\n",
       "    }\n",
       "\n",
       "    .dataframe tbody tr th {\n",
       "        vertical-align: top;\n",
       "    }\n",
       "\n",
       "    .dataframe thead th {\n",
       "        text-align: right;\n",
       "    }\n",
       "</style>\n",
       "<table border=\"1\" class=\"dataframe\">\n",
       "  <thead>\n",
       "    <tr style=\"text-align: right;\">\n",
       "      <th></th>\n",
       "      <th>analysis_sample_rate</th>\n",
       "      <th>audio_md5</th>\n",
       "      <th>danceability</th>\n",
       "      <th>duration</th>\n",
       "      <th>end_of_fade_in</th>\n",
       "      <th>energy</th>\n",
       "      <th>idx_bars_confidence</th>\n",
       "      <th>idx_bars_start</th>\n",
       "      <th>idx_beats_confidence</th>\n",
       "      <th>idx_beats_start</th>\n",
       "      <th>...</th>\n",
       "      <th>key</th>\n",
       "      <th>key_confidence</th>\n",
       "      <th>loudness</th>\n",
       "      <th>mode</th>\n",
       "      <th>mode_confidence</th>\n",
       "      <th>start_of_fade_out</th>\n",
       "      <th>tempo</th>\n",
       "      <th>time_signature</th>\n",
       "      <th>time_signature_confidence</th>\n",
       "      <th>track_id</th>\n",
       "    </tr>\n",
       "  </thead>\n",
       "  <tbody>\n",
       "    <tr>\n",
       "      <th>0</th>\n",
       "      <td>22050</td>\n",
       "      <td>b'aee9820911781c734e7694c5432990ca'</td>\n",
       "      <td>0.0</td>\n",
       "      <td>252.05506</td>\n",
       "      <td>2.049</td>\n",
       "      <td>0.0</td>\n",
       "      <td>0</td>\n",
       "      <td>0</td>\n",
       "      <td>0</td>\n",
       "      <td>0</td>\n",
       "      <td>...</td>\n",
       "      <td>10</td>\n",
       "      <td>0.777</td>\n",
       "      <td>-4.829</td>\n",
       "      <td>0</td>\n",
       "      <td>0.688</td>\n",
       "      <td>236.635</td>\n",
       "      <td>87.002</td>\n",
       "      <td>4</td>\n",
       "      <td>0.940</td>\n",
       "      <td>b'TRMMMYQ128F932D901'</td>\n",
       "    </tr>\n",
       "    <tr>\n",
       "      <th>1</th>\n",
       "      <td>22050</td>\n",
       "      <td>b'ed222d07c83bac7689d52753610a513a'</td>\n",
       "      <td>0.0</td>\n",
       "      <td>156.55138</td>\n",
       "      <td>0.258</td>\n",
       "      <td>0.0</td>\n",
       "      <td>0</td>\n",
       "      <td>0</td>\n",
       "      <td>0</td>\n",
       "      <td>0</td>\n",
       "      <td>...</td>\n",
       "      <td>9</td>\n",
       "      <td>0.808</td>\n",
       "      <td>-10.555</td>\n",
       "      <td>1</td>\n",
       "      <td>0.355</td>\n",
       "      <td>148.660</td>\n",
       "      <td>150.778</td>\n",
       "      <td>1</td>\n",
       "      <td>0.000</td>\n",
       "      <td>b'TRMMMKD128F425225D'</td>\n",
       "    </tr>\n",
       "    <tr>\n",
       "      <th>2</th>\n",
       "      <td>22050</td>\n",
       "      <td>b'96c7104889a128fef84fa469d60e380c'</td>\n",
       "      <td>0.0</td>\n",
       "      <td>138.97098</td>\n",
       "      <td>0.000</td>\n",
       "      <td>0.0</td>\n",
       "      <td>0</td>\n",
       "      <td>0</td>\n",
       "      <td>0</td>\n",
       "      <td>0</td>\n",
       "      <td>...</td>\n",
       "      <td>7</td>\n",
       "      <td>0.418</td>\n",
       "      <td>-2.060</td>\n",
       "      <td>1</td>\n",
       "      <td>0.566</td>\n",
       "      <td>138.971</td>\n",
       "      <td>177.768</td>\n",
       "      <td>4</td>\n",
       "      <td>0.446</td>\n",
       "      <td>b'TRMMMRX128F93187D9'</td>\n",
       "    </tr>\n",
       "    <tr>\n",
       "      <th>3</th>\n",
       "      <td>22050</td>\n",
       "      <td>b'0f7da84b6b583e3846c7e022fb3a92a2'</td>\n",
       "      <td>0.0</td>\n",
       "      <td>145.05751</td>\n",
       "      <td>0.000</td>\n",
       "      <td>0.0</td>\n",
       "      <td>0</td>\n",
       "      <td>0</td>\n",
       "      <td>0</td>\n",
       "      <td>0</td>\n",
       "      <td>...</td>\n",
       "      <td>7</td>\n",
       "      <td>0.125</td>\n",
       "      <td>-4.654</td>\n",
       "      <td>1</td>\n",
       "      <td>0.451</td>\n",
       "      <td>138.687</td>\n",
       "      <td>87.433</td>\n",
       "      <td>4</td>\n",
       "      <td>0.000</td>\n",
       "      <td>b'TRMMMCH128F425532C'</td>\n",
       "    </tr>\n",
       "    <tr>\n",
       "      <th>4</th>\n",
       "      <td>22050</td>\n",
       "      <td>b'228dd6392ad8001b0281f533f34c72fd'</td>\n",
       "      <td>0.0</td>\n",
       "      <td>514.29832</td>\n",
       "      <td>0.000</td>\n",
       "      <td>0.0</td>\n",
       "      <td>0</td>\n",
       "      <td>0</td>\n",
       "      <td>0</td>\n",
       "      <td>0</td>\n",
       "      <td>...</td>\n",
       "      <td>5</td>\n",
       "      <td>0.097</td>\n",
       "      <td>-7.806</td>\n",
       "      <td>0</td>\n",
       "      <td>0.290</td>\n",
       "      <td>506.717</td>\n",
       "      <td>140.035</td>\n",
       "      <td>4</td>\n",
       "      <td>0.315</td>\n",
       "      <td>b'TRMMMWA128F426B589'</td>\n",
       "    </tr>\n",
       "  </tbody>\n",
       "</table>\n",
       "<p>5 rows × 31 columns</p>\n",
       "</div>"
      ],
      "text/plain": [
       "   analysis_sample_rate                            audio_md5  danceability  \\\n",
       "0                 22050  b'aee9820911781c734e7694c5432990ca'           0.0   \n",
       "1                 22050  b'ed222d07c83bac7689d52753610a513a'           0.0   \n",
       "2                 22050  b'96c7104889a128fef84fa469d60e380c'           0.0   \n",
       "3                 22050  b'0f7da84b6b583e3846c7e022fb3a92a2'           0.0   \n",
       "4                 22050  b'228dd6392ad8001b0281f533f34c72fd'           0.0   \n",
       "\n",
       "    duration  end_of_fade_in  energy  idx_bars_confidence  idx_bars_start  \\\n",
       "0  252.05506           2.049     0.0                    0               0   \n",
       "1  156.55138           0.258     0.0                    0               0   \n",
       "2  138.97098           0.000     0.0                    0               0   \n",
       "3  145.05751           0.000     0.0                    0               0   \n",
       "4  514.29832           0.000     0.0                    0               0   \n",
       "\n",
       "   idx_beats_confidence  idx_beats_start  ...  key  key_confidence  loudness  \\\n",
       "0                     0                0  ...   10           0.777    -4.829   \n",
       "1                     0                0  ...    9           0.808   -10.555   \n",
       "2                     0                0  ...    7           0.418    -2.060   \n",
       "3                     0                0  ...    7           0.125    -4.654   \n",
       "4                     0                0  ...    5           0.097    -7.806   \n",
       "\n",
       "   mode  mode_confidence  start_of_fade_out    tempo  time_signature  \\\n",
       "0     0            0.688            236.635   87.002               4   \n",
       "1     1            0.355            148.660  150.778               1   \n",
       "2     1            0.566            138.971  177.768               4   \n",
       "3     1            0.451            138.687   87.433               4   \n",
       "4     0            0.290            506.717  140.035               4   \n",
       "\n",
       "   time_signature_confidence               track_id  \n",
       "0                      0.940  b'TRMMMYQ128F932D901'  \n",
       "1                      0.000  b'TRMMMKD128F425225D'  \n",
       "2                      0.446  b'TRMMMRX128F93187D9'  \n",
       "3                      0.000  b'TRMMMCH128F425532C'  \n",
       "4                      0.315  b'TRMMMWA128F426B589'  \n",
       "\n",
       "[5 rows x 31 columns]"
      ]
     },
     "execution_count": 4,
     "metadata": {},
     "output_type": "execute_result"
    }
   ],
   "source": [
    "for key in data['musicbrainz'].keys():\n",
    "    print(key)\n",
    "    \n",
    "analysis_songs = pd.DataFrame(data['analysis']['songs'].value)\n",
    "analysis_songs.head()"
   ]
  },
  {
   "cell_type": "code",
   "execution_count": 14,
   "metadata": {},
   "outputs": [
    {
     "name": "stdout",
     "output_type": "stream",
     "text": [
      "b'TRMMMYQ128F932D901'\n"
     ]
    },
    {
     "data": {
      "text/plain": [
       "'TRMMMYQ128F932D901'"
      ]
     },
     "execution_count": 14,
     "metadata": {},
     "output_type": "execute_result"
    }
   ],
   "source": [
    "analysis_songs.head(1)['track_id'].str.decode('utf-8')[0]"
   ]
  },
  {
   "cell_type": "code",
   "execution_count": 48,
   "metadata": {},
   "outputs": [
    {
     "name": "stderr",
     "output_type": "stream",
     "text": [
      "/Users/sebastian/anaconda3/envs/hit_predictor/lib/python3.7/site-packages/h5py/_hl/dataset.py:313: H5pyDeprecationWarning: dataset.value has been deprecated. Use dataset[()] instead.\n",
      "  \"Use dataset[()] instead.\", H5pyDeprecationWarning)\n"
     ]
    }
   ],
   "source": [
    "# Load Metadata\n",
    "meta_data_songs = pd.DataFrame(data['metadata']['songs'].value)"
   ]
  },
  {
   "cell_type": "code",
   "execution_count": 49,
   "metadata": {},
   "outputs": [],
   "source": [
    "meta_reduced = meta_data_songs.loc[:,['artist_name','artist_mbid','title','song_id']].copy()"
   ]
  },
  {
   "cell_type": "code",
   "execution_count": 47,
   "metadata": {},
   "outputs": [
    {
     "data": {
      "text/html": [
       "<div>\n",
       "<style scoped>\n",
       "    .dataframe tbody tr th:only-of-type {\n",
       "        vertical-align: middle;\n",
       "    }\n",
       "\n",
       "    .dataframe tbody tr th {\n",
       "        vertical-align: top;\n",
       "    }\n",
       "\n",
       "    .dataframe thead th {\n",
       "        text-align: right;\n",
       "    }\n",
       "</style>\n",
       "<table border=\"1\" class=\"dataframe\">\n",
       "  <thead>\n",
       "    <tr style=\"text-align: right;\">\n",
       "      <th></th>\n",
       "      <th>artist_name</th>\n",
       "      <th>artist_mbid</th>\n",
       "      <th>title</th>\n",
       "      <th>song_id</th>\n",
       "    </tr>\n",
       "  </thead>\n",
       "  <tbody>\n",
       "    <tr>\n",
       "      <th>0</th>\n",
       "      <td>NaN</td>\n",
       "      <td>NaN</td>\n",
       "      <td>NaN</td>\n",
       "      <td>NaN</td>\n",
       "    </tr>\n",
       "    <tr>\n",
       "      <th>1</th>\n",
       "      <td>NaN</td>\n",
       "      <td>NaN</td>\n",
       "      <td>NaN</td>\n",
       "      <td>NaN</td>\n",
       "    </tr>\n",
       "    <tr>\n",
       "      <th>2</th>\n",
       "      <td>NaN</td>\n",
       "      <td>NaN</td>\n",
       "      <td>NaN</td>\n",
       "      <td>NaN</td>\n",
       "    </tr>\n",
       "    <tr>\n",
       "      <th>3</th>\n",
       "      <td>NaN</td>\n",
       "      <td>NaN</td>\n",
       "      <td>NaN</td>\n",
       "      <td>NaN</td>\n",
       "    </tr>\n",
       "    <tr>\n",
       "      <th>4</th>\n",
       "      <td>NaN</td>\n",
       "      <td>NaN</td>\n",
       "      <td>NaN</td>\n",
       "      <td>NaN</td>\n",
       "    </tr>\n",
       "  </tbody>\n",
       "</table>\n",
       "</div>"
      ],
      "text/plain": [
       "  artist_name artist_mbid title song_id\n",
       "0         NaN         NaN   NaN     NaN\n",
       "1         NaN         NaN   NaN     NaN\n",
       "2         NaN         NaN   NaN     NaN\n",
       "3         NaN         NaN   NaN     NaN\n",
       "4         NaN         NaN   NaN     NaN"
      ]
     },
     "execution_count": 47,
     "metadata": {},
     "output_type": "execute_result"
    }
   ],
   "source": [
    "# Transform bytes to strings\n",
    "meta_reduced.loc[~meta_reduced['artist_mbid'].isnull(),'artist_mbid'] = meta_reduced.loc[~meta_reduced['artist_mbid'].isnull(),'artist_mbid'].str.decode('utf-8')\n",
    "meta_reduced.loc[~meta_reduced['artist_name'].isnull(),'artist_name'] = meta_reduced.loc[~meta_reduced['artist_name'].isnull(),'artist_name'].str.decode('utf-8')\n",
    "meta_reduced.loc[~meta_reduced['song_id'].isnull(),'song_id'] = meta_reduced.loc[~meta_reduced['song_id'].isnull(),'song_id'].str.decode('utf-8')\n",
    "meta_reduced.loc[~meta_reduced['title'].isnull(),'title'] = meta_reduced.loc[~meta_reduced['title'].isnull(),'title'].str.decode('utf-8')\n",
    "\n",
    "# Test output\n",
    "meta_reduced.head()"
   ]
  },
  {
   "cell_type": "code",
   "execution_count": 45,
   "metadata": {},
   "outputs": [
    {
     "data": {
      "text/html": [
       "<div>\n",
       "<style scoped>\n",
       "    .dataframe tbody tr th:only-of-type {\n",
       "        vertical-align: middle;\n",
       "    }\n",
       "\n",
       "    .dataframe tbody tr th {\n",
       "        vertical-align: top;\n",
       "    }\n",
       "\n",
       "    .dataframe thead th {\n",
       "        text-align: right;\n",
       "    }\n",
       "</style>\n",
       "<table border=\"1\" class=\"dataframe\">\n",
       "  <thead>\n",
       "    <tr style=\"text-align: right;\">\n",
       "      <th></th>\n",
       "      <th>tracks.catalog</th>\n",
       "      <th>tracks.foreign_id</th>\n",
       "      <th>tracks.id</th>\n",
       "      <th>artist_name</th>\n",
       "      <th>id</th>\n",
       "      <th>title</th>\n",
       "    </tr>\n",
       "  </thead>\n",
       "  <tbody>\n",
       "    <tr>\n",
       "      <th>0</th>\n",
       "      <td>spotify</td>\n",
       "      <td>spotify:track:4UvblPNa9nwMTkzLtUBxnj</td>\n",
       "      <td>TRNAQME144D1525B11</td>\n",
       "      <td>Jackson Sisters</td>\n",
       "      <td>SOCSZMF12AAF3B3498</td>\n",
       "      <td>Why Do Fools Fall In Love</td>\n",
       "    </tr>\n",
       "    <tr>\n",
       "      <th>1</th>\n",
       "      <td>spotify</td>\n",
       "      <td>spotify:track:2biysHaswSmcpAM1T554BR</td>\n",
       "      <td>TROAEGA144D0FE9F1A</td>\n",
       "      <td>Journey</td>\n",
       "      <td>SOCSMOE12A8C1459E8</td>\n",
       "      <td>Live and Breathe</td>\n",
       "    </tr>\n",
       "    <tr>\n",
       "      <th>3</th>\n",
       "      <td>spotify</td>\n",
       "      <td>spotify:track:4YkMlmjR7KVwbZa3D3ek8N</td>\n",
       "      <td>TRYQDDR144D154494E</td>\n",
       "      <td>Chamillionaire</td>\n",
       "      <td>SOCBVBO1315CD46DFA</td>\n",
       "      <td>Think I'm Crazy</td>\n",
       "    </tr>\n",
       "    <tr>\n",
       "      <th>12</th>\n",
       "      <td>spotify</td>\n",
       "      <td>spotify:track:7oZHYB2HXjvgcMfu8tTqBA</td>\n",
       "      <td>TRCSAFR147B6EB3D98</td>\n",
       "      <td>Moonspell</td>\n",
       "      <td>SOCSZXL12A6D4F8145</td>\n",
       "      <td>Opium</td>\n",
       "    </tr>\n",
       "    <tr>\n",
       "      <th>17</th>\n",
       "      <td>spotify</td>\n",
       "      <td>spotify:track:3CSkXJgKEupR2mYx6CnW8c</td>\n",
       "      <td>TRJDLNF144D118CFAF</td>\n",
       "      <td>Oliver Huntemann</td>\n",
       "      <td>SOCSBRR12A6D4FBEC2</td>\n",
       "      <td>37 Grad (Arnaud Rebotini's Blackstrobe Remix)</td>\n",
       "    </tr>\n",
       "  </tbody>\n",
       "</table>\n",
       "</div>"
      ],
      "text/plain": [
       "   tracks.catalog                     tracks.foreign_id           tracks.id  \\\n",
       "0         spotify  spotify:track:4UvblPNa9nwMTkzLtUBxnj  TRNAQME144D1525B11   \n",
       "1         spotify  spotify:track:2biysHaswSmcpAM1T554BR  TROAEGA144D0FE9F1A   \n",
       "3         spotify  spotify:track:4YkMlmjR7KVwbZa3D3ek8N  TRYQDDR144D154494E   \n",
       "12        spotify  spotify:track:7oZHYB2HXjvgcMfu8tTqBA  TRCSAFR147B6EB3D98   \n",
       "17        spotify  spotify:track:3CSkXJgKEupR2mYx6CnW8c  TRJDLNF144D118CFAF   \n",
       "\n",
       "         artist_name                  id  \\\n",
       "0    Jackson Sisters  SOCSZMF12AAF3B3498   \n",
       "1            Journey  SOCSMOE12A8C1459E8   \n",
       "3     Chamillionaire  SOCBVBO1315CD46DFA   \n",
       "12         Moonspell  SOCSZXL12A6D4F8145   \n",
       "17  Oliver Huntemann  SOCSBRR12A6D4FBEC2   \n",
       "\n",
       "                                            title  \n",
       "0                       Why Do Fools Fall In Love  \n",
       "1                                Live and Breathe  \n",
       "3                                 Think I'm Crazy  \n",
       "12                                          Opium  \n",
       "17  37 Grad (Arnaud Rebotini's Blackstrobe Remix)  "
      ]
     },
     "execution_count": 45,
     "metadata": {},
     "output_type": "execute_result"
    }
   ],
   "source": [
    "# Import mapping.csv file (see notebook Create Mapping File from Echonest Mapping Project)\n",
    "mapping_df = pd.read_csv('../interim/mapping_summary.csv',sep='\\t').drop_duplicates(subset='id',keep='first')\n",
    "mapping_df.head()"
   ]
  },
  {
   "cell_type": "code",
   "execution_count": 46,
   "metadata": {},
   "outputs": [
    {
     "name": "stdout",
     "output_type": "stream",
     "text": [
      "<class 'pandas.core.frame.DataFrame'>\n",
      "Int64Index: 1000000 entries, 0 to 999999\n",
      "Data columns (total 8 columns):\n",
      "artist_name          1000000 non-null object\n",
      "artist_mbid          1000000 non-null object\n",
      "title                1000000 non-null object\n",
      "song_id              1000000 non-null object\n",
      "tracks.catalog       286028 non-null object\n",
      "tracks.foreign_id    286028 non-null object\n",
      "tracks.id            286028 non-null object\n",
      "id                   286028 non-null object\n",
      "dtypes: object(8)\n",
      "memory usage: 68.7+ MB\n"
     ]
    }
   ],
   "source": [
    "meta_reduced_sp_ids = meta_reduced.merge(mapping_df,left_on=['song_id','artist_name','title'],right_on=['id','artist_name','title'],how='left')\n",
    "meta_reduced_sp_ids.info()"
   ]
  },
  {
   "cell_type": "code",
   "execution_count": null,
   "metadata": {},
   "outputs": [],
   "source": []
  }
 ],
 "metadata": {
  "kernelspec": {
   "display_name": "Python 3",
   "language": "python",
   "name": "python3"
  },
  "language_info": {
   "codemirror_mode": {
    "name": "ipython",
    "version": 3
   },
   "file_extension": ".py",
   "mimetype": "text/x-python",
   "name": "python",
   "nbconvert_exporter": "python",
   "pygments_lexer": "ipython3",
   "version": "3.7.3"
  }
 },
 "nbformat": 4,
 "nbformat_minor": 2
}
