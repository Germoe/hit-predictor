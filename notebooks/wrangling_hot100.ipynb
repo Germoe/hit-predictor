{
 "cells": [
  {
   "cell_type": "markdown",
   "metadata": {},
   "source": [
    "# Hot 100 Data\n",
    "\n",
    "The data set we'll put into shape here is the weekly hot 100 charts. The data covers Aug. 4, 1958 through Apr. 13, 2019."
   ]
  },
  {
   "cell_type": "code",
   "execution_count": 1,
   "metadata": {},
   "outputs": [],
   "source": [
    "import os\n",
    "import numpy as np\n",
    "import pandas as pd\n",
    "from glob import glob\n",
    "\n",
    "# Switch Directory to ../data/interim/\n",
    "current_dir = os.getcwd()\n",
    "destination_dir = '/data/interim/hot100'\n",
    "if not current_dir[-len(destination_dir):] == destination_dir:\n",
    "    os.chdir('..' + destination_dir)"
   ]
  },
  {
   "cell_type": "code",
   "execution_count": 2,
   "metadata": {},
   "outputs": [
    {
     "name": "stdout",
     "output_type": "stream",
     "text": [
      "2966\n"
     ]
    },
    {
     "data": {
      "text/html": [
       "<div>\n",
       "<style scoped>\n",
       "    .dataframe tbody tr th:only-of-type {\n",
       "        vertical-align: middle;\n",
       "    }\n",
       "\n",
       "    .dataframe tbody tr th {\n",
       "        vertical-align: top;\n",
       "    }\n",
       "\n",
       "    .dataframe thead th {\n",
       "        text-align: right;\n",
       "    }\n",
       "</style>\n",
       "<table border=\"1\" class=\"dataframe\">\n",
       "  <thead>\n",
       "    <tr style=\"text-align: right;\">\n",
       "      <th></th>\n",
       "      <th>rank</th>\n",
       "      <th>date</th>\n",
       "      <th>title</th>\n",
       "      <th>artist</th>\n",
       "    </tr>\n",
       "  </thead>\n",
       "  <tbody>\n",
       "    <tr>\n",
       "      <th>0</th>\n",
       "      <td>1</td>\n",
       "      <td>1967-07-08</td>\n",
       "      <td>Windy</td>\n",
       "      <td>The Association</td>\n",
       "    </tr>\n",
       "    <tr>\n",
       "      <th>1</th>\n",
       "      <td>2</td>\n",
       "      <td>1967-07-08</td>\n",
       "      <td>Little Bit O' Soul</td>\n",
       "      <td>The Music Explosion</td>\n",
       "    </tr>\n",
       "    <tr>\n",
       "      <th>2</th>\n",
       "      <td>3</td>\n",
       "      <td>1967-07-08</td>\n",
       "      <td>Can't Take My Eyes Off You</td>\n",
       "      <td>Frankie Valli</td>\n",
       "    </tr>\n",
       "    <tr>\n",
       "      <th>3</th>\n",
       "      <td>4</td>\n",
       "      <td>1967-07-08</td>\n",
       "      <td>San Francisco (Be Sure To Wear Flowers In Your...</td>\n",
       "      <td>Scott McKenzie</td>\n",
       "    </tr>\n",
       "    <tr>\n",
       "      <th>4</th>\n",
       "      <td>5</td>\n",
       "      <td>1967-07-08</td>\n",
       "      <td>Don't Sleep In The Subway</td>\n",
       "      <td>Petula Clark</td>\n",
       "    </tr>\n",
       "  </tbody>\n",
       "</table>\n",
       "</div>"
      ],
      "text/plain": [
       "   rank       date                                              title  \\\n",
       "0     1 1967-07-08                                              Windy   \n",
       "1     2 1967-07-08                                 Little Bit O' Soul   \n",
       "2     3 1967-07-08                         Can't Take My Eyes Off You   \n",
       "3     4 1967-07-08  San Francisco (Be Sure To Wear Flowers In Your...   \n",
       "4     5 1967-07-08                          Don't Sleep In The Subway   \n",
       "\n",
       "                artist  \n",
       "0      The Association  \n",
       "1  The Music Explosion  \n",
       "2        Frankie Valli  \n",
       "3       Scott McKenzie  \n",
       "4         Petula Clark  "
      ]
     },
     "execution_count": 2,
     "metadata": {},
     "output_type": "execute_result"
    }
   ],
   "source": [
    "# Read in all Subfiles\n",
    "filenames = glob('*.csv')\n",
    "print(len(filenames))\n",
    "hot100_dfs = [pd.read_csv(filepath,sep='\\t',usecols=['date','rank','title','artist'],\n",
    "                          parse_dates=['date']) for filepath in filenames]\n",
    "hot100_all = pd.concat(hot100_dfs)\n",
    "hot100_all.head()"
   ]
  },
  {
   "cell_type": "markdown",
   "metadata": {},
   "source": [
    "### Add Performance Values\n",
    "\n",
    "A track can be on the Hot 100 for a long time, during this time its rank will vary. To get better clarity of a songs best performance I'll add several performance indicators. This includes `peak` (highest rank), `streak` (longest continuous ranking on Hot 100), `multiple` (max songs by one artist at the same time)."
   ]
  },
  {
   "cell_type": "code",
   "execution_count": 3,
   "metadata": {},
   "outputs": [
    {
     "data": {
      "text/html": [
       "<div>\n",
       "<style scoped>\n",
       "    .dataframe tbody tr th:only-of-type {\n",
       "        vertical-align: middle;\n",
       "    }\n",
       "\n",
       "    .dataframe tbody tr th {\n",
       "        vertical-align: top;\n",
       "    }\n",
       "\n",
       "    .dataframe thead th {\n",
       "        text-align: right;\n",
       "    }\n",
       "</style>\n",
       "<table border=\"1\" class=\"dataframe\">\n",
       "  <thead>\n",
       "    <tr style=\"text-align: right;\">\n",
       "      <th></th>\n",
       "      <th>rank</th>\n",
       "      <th>date</th>\n",
       "      <th>title</th>\n",
       "      <th>artist</th>\n",
       "      <th>peak</th>\n",
       "    </tr>\n",
       "  </thead>\n",
       "  <tbody>\n",
       "    <tr>\n",
       "      <th>0</th>\n",
       "      <td>1</td>\n",
       "      <td>1967-07-08</td>\n",
       "      <td>Windy</td>\n",
       "      <td>The Association</td>\n",
       "      <td>1</td>\n",
       "    </tr>\n",
       "    <tr>\n",
       "      <th>1</th>\n",
       "      <td>2</td>\n",
       "      <td>1967-07-08</td>\n",
       "      <td>Little Bit O' Soul</td>\n",
       "      <td>The Music Explosion</td>\n",
       "      <td>2</td>\n",
       "    </tr>\n",
       "    <tr>\n",
       "      <th>2</th>\n",
       "      <td>3</td>\n",
       "      <td>1967-07-08</td>\n",
       "      <td>Can't Take My Eyes Off You</td>\n",
       "      <td>Frankie Valli</td>\n",
       "      <td>2</td>\n",
       "    </tr>\n",
       "    <tr>\n",
       "      <th>3</th>\n",
       "      <td>4</td>\n",
       "      <td>1967-07-08</td>\n",
       "      <td>San Francisco (Be Sure To Wear Flowers In Your...</td>\n",
       "      <td>Scott McKenzie</td>\n",
       "      <td>4</td>\n",
       "    </tr>\n",
       "    <tr>\n",
       "      <th>4</th>\n",
       "      <td>5</td>\n",
       "      <td>1967-07-08</td>\n",
       "      <td>Don't Sleep In The Subway</td>\n",
       "      <td>Petula Clark</td>\n",
       "      <td>5</td>\n",
       "    </tr>\n",
       "  </tbody>\n",
       "</table>\n",
       "</div>"
      ],
      "text/plain": [
       "   rank       date                                              title  \\\n",
       "0     1 1967-07-08                                              Windy   \n",
       "1     2 1967-07-08                                 Little Bit O' Soul   \n",
       "2     3 1967-07-08                         Can't Take My Eyes Off You   \n",
       "3     4 1967-07-08  San Francisco (Be Sure To Wear Flowers In Your...   \n",
       "4     5 1967-07-08                          Don't Sleep In The Subway   \n",
       "\n",
       "                artist  peak  \n",
       "0      The Association     1  \n",
       "1  The Music Explosion     2  \n",
       "2        Frankie Valli     2  \n",
       "3       Scott McKenzie     4  \n",
       "4         Petula Clark     5  "
      ]
     },
     "execution_count": 3,
     "metadata": {},
     "output_type": "execute_result"
    }
   ],
   "source": [
    "# Add peak values\n",
    "peak_ranks = hot100_all.groupby(['title','artist']).min().loc[:,'rank']\n",
    "peak_ranks = peak_ranks.rename('peak')\n",
    "hot100_all_peak = hot100_all.merge(peak_ranks,how='left',on=['title','artist'])\n",
    "hot100_all_peak.head(5)"
   ]
  }
 ],
 "metadata": {
  "kernelspec": {
   "display_name": "Python 3",
   "language": "python",
   "name": "python3"
  },
  "language_info": {
   "codemirror_mode": {
    "name": "ipython",
    "version": 3
   },
   "file_extension": ".py",
   "mimetype": "text/x-python",
   "name": "python",
   "nbconvert_exporter": "python",
   "pygments_lexer": "ipython3",
   "version": "3.7.3"
  }
 },
 "nbformat": 4,
 "nbformat_minor": 2
}
