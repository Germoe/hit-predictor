{
 "cells": [
  {
   "cell_type": "code",
   "execution_count": 2,
   "metadata": {},
   "outputs": [
    {
     "name": "stdout",
     "output_type": "stream",
     "text": [
      "[Errno 2] No such file or directory: '../data/iterators'\n",
      "/Users/sebastian/git_repos/data_science/hit_predictor/data/iterators\n"
     ]
    }
   ],
   "source": [
    "import pandas as pd \n",
    "\n",
    "%cd ../data/iterators\n",
    "\n",
    "pd.read_csv('spotify_ids_filled.csv',sep='\\t').drop_duplicates(subset=['iterator']).to_csv('unique_songs_hot100_spotify_ids.csv',sep='\\t',index=False,encoding='utf-8')"
   ]
  },
  {
   "cell_type": "code",
   "execution_count": null,
   "metadata": {},
   "outputs": [],
   "source": []
  }
 ],
 "metadata": {
  "kernelspec": {
   "display_name": "Python 3",
   "language": "python",
   "name": "python3"
  },
  "language_info": {
   "codemirror_mode": {
    "name": "ipython",
    "version": 3
   },
   "file_extension": ".py",
   "mimetype": "text/x-python",
   "name": "python",
   "nbconvert_exporter": "python",
   "pygments_lexer": "ipython3",
   "version": "3.7.3"
  }
 },
 "nbformat": 4,
 "nbformat_minor": 2
}
